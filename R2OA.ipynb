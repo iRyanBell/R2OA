{
 "cells": [
  {
   "cell_type": "markdown",
   "metadata": {},
   "source": [
    "## Reversible Second Order Automata With Rule Cycling"
   ]
  },
  {
   "cell_type": "code",
   "execution_count": 1,
   "metadata": {},
   "outputs": [],
   "source": [
    "import random\n",
    "from bitstring import BitArray\n",
    "\n",
    "def rule(n):\n",
    "    # Exclude rules larger than 8-bits.\n",
    "    assert n <= 255\n",
    "    \n",
    "    # Convert rule # to bits\n",
    "    r = BitArray(bytes([n]))\n",
    "    r.insert(~r, 0)\n",
    "    \n",
    "    # Return LUT\n",
    "    return {x: r[x] for x in range(16)}\n",
    "\n",
    "def pad(arr):\n",
    "    # Pads the left + right bitarray sides.\n",
    "    arr_padded = BitArray(arr)\n",
    "    arr_padded.insert([0], 0)\n",
    "    arr_padded.insert([0], len(arr_padded))\n",
    "    return arr_padded\n",
    "\n",
    "def step(arr_a, arr_b, r):\n",
    "    # Apply rule\n",
    "    a, b = pad(arr_a), pad(arr_b)\n",
    "\n",
    "    row = BitArray(len(b))\n",
    "    for i in range(1, len(b) - 1):\n",
    "        # Check neighbors\n",
    "        top, left, center, right = a[i], b[i-1], b[i], b[i+1]\n",
    "        \n",
    "        # Calculate next bit\n",
    "        row[i] = r[15 - BitArray([top, left, center, right]).uint]\n",
    "\n",
    "    return row\n",
    "\n",
    "def encode(arr_a, arr_b, rules, steps):\n",
    "    # Calculate rules\n",
    "    rule_LUT = [rule(x) for x in rules]\n",
    "    \n",
    "    # Apply forward steps\n",
    "    a, b = BitArray(arr_a), BitArray(arr_b)\n",
    "    for i in range(steps):\n",
    "        r = rule_LUT[i % len(rules)]\n",
    "        c = step(a, b, r)\n",
    "        a = pad(b)\n",
    "        b = c\n",
    "    return a, b\n",
    "\n",
    "def decode(a, b, rules, steps):\n",
    "    # Calculate rules\n",
    "    rule_LUT = [rule(x) for x in rules[::-1]]\n",
    "    \n",
    "    # Apply reverse steps\n",
    "    for i in range(steps):\n",
    "        r = rule_LUT[i % len(rules)]\n",
    "        c = step(b[1:-1], a[1:-1], r)\n",
    "        b = a[1:-1]\n",
    "        a = c[1:-1]\n",
    "    return a, b"
   ]
  },
  {
   "cell_type": "markdown",
   "metadata": {},
   "source": [
    "### Example 1: Encoder (single rule)"
   ]
  },
  {
   "cell_type": "code",
   "execution_count": 2,
   "metadata": {},
   "outputs": [
    {
     "name": "stdout",
     "output_type": "stream",
     "text": [
      "00010011000\n",
      "00110011100\n"
     ]
    }
   ],
   "source": [
    "a = BitArray([0, 0, 0, 1, 0, 0, 0])\n",
    "b = BitArray([0, 0, 1, 1, 1, 0, 0])\n",
    "\n",
    "a_enc, b_enc = encode(a, b, [214], 2)\n",
    "print(a_enc.bin)\n",
    "print(b_enc.bin)"
   ]
  },
  {
   "cell_type": "markdown",
   "metadata": {},
   "source": [
    "### Example 1: Decoder"
   ]
  },
  {
   "cell_type": "code",
   "execution_count": 3,
   "metadata": {},
   "outputs": [
    {
     "name": "stdout",
     "output_type": "stream",
     "text": [
      "0001000\n",
      "0011100\n"
     ]
    }
   ],
   "source": [
    "a_dec, b_dec = decode(a_enc, b_enc, [214], 2)\n",
    "print(a_dec.bin)\n",
    "print(b_dec.bin)"
   ]
  },
  {
   "cell_type": "markdown",
   "metadata": {},
   "source": [
    "### Example 2: String Encoder (multi-rule)"
   ]
  },
  {
   "cell_type": "code",
   "execution_count": 4,
   "metadata": {},
   "outputs": [
    {
     "name": "stdout",
     "output_type": "stream",
     "text": [
      "0100100001100101011011000110110001101111\n",
      "1011111010000110101111000110000110001000\n"
     ]
    }
   ],
   "source": [
    "msg = 'Hello'\n",
    "\n",
    "a = BitArray(msg.encode('utf-8'))\n",
    "b = BitArray([random.getrandbits(1) for x in a])\n",
    "\n",
    "print(a.bin)\n",
    "print(b.bin)"
   ]
  },
  {
   "cell_type": "code",
   "execution_count": 5,
   "metadata": {},
   "outputs": [
    {
     "name": "stdout",
     "output_type": "stream",
     "text": [
      "392554fc537e6273c884258800229cd2c89a68caf0\n",
      "0eab768c33ff81a8d36db68702e7289a59d607034e\n"
     ]
    }
   ],
   "source": [
    "a_enc, b_enc = encode(a, b, [45, 101], 64)\n",
    "print(a_enc.hex)\n",
    "print(b_enc.hex)"
   ]
  },
  {
   "cell_type": "markdown",
   "metadata": {},
   "source": [
    "### Example 2: String Decoder"
   ]
  },
  {
   "cell_type": "code",
   "execution_count": 6,
   "metadata": {},
   "outputs": [
    {
     "data": {
      "text/plain": [
       "'Hello'"
      ]
     },
     "execution_count": 6,
     "metadata": {},
     "output_type": "execute_result"
    }
   ],
   "source": [
    "a_dec, b_dec = decode(a_enc, b_enc, [45, 101], 64)\n",
    "a_dec.bytes.decode('utf-8')"
   ]
  },
  {
   "cell_type": "markdown",
   "metadata": {},
   "source": [
    "### Example 3: String Encoding v2"
   ]
  },
  {
   "cell_type": "code",
   "execution_count": 7,
   "metadata": {},
   "outputs": [
    {
     "name": "stdout",
     "output_type": "stream",
     "text": [
      "310939249775 843190955791\n",
      "310939249775 Hello\n"
     ]
    }
   ],
   "source": [
    "a = BitArray('Hello'.encode('utf-8'))\n",
    "b = BitArray([random.getrandbits(1) for x in a])\n",
    "a_uint, b_uint = a.uint, b.uint\n",
    "\n",
    "print(a_uint, b_uint)\n",
    "\n",
    "a = BitArray(uint=a_uint, length=len(a))\n",
    "b = BitArray(uint=b_uint, length=len(b))\n",
    "\n",
    "a_enc, b_enc = encode(a, b, [45, 75, 101, 106], 64)\n",
    "a_dec, b_dec = decode(a_enc, b_enc, [45, 75, 101, 106], 64)\n",
    "print(a_dec.uint, a_dec.bytes.decode('utf-8'))"
   ]
  },
  {
   "cell_type": "code",
   "execution_count": null,
   "metadata": {},
   "outputs": [],
   "source": []
  }
 ],
 "metadata": {
  "kernelspec": {
   "display_name": "Python 3",
   "language": "python",
   "name": "python3"
  },
  "language_info": {
   "codemirror_mode": {
    "name": "ipython",
    "version": 3
   },
   "file_extension": ".py",
   "mimetype": "text/x-python",
   "name": "python",
   "nbconvert_exporter": "python",
   "pygments_lexer": "ipython3",
   "version": "3.8.1"
  }
 },
 "nbformat": 4,
 "nbformat_minor": 4
}
